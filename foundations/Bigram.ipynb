{
  "cells": [
    {
      "cell_type": "markdown",
      "metadata": {
        "id": "view-in-github",
        "colab_type": "text"
      },
      "source": [
        "<a href=\"https://colab.research.google.com/github/bashdragon/llm-discussion/blob/main/Bigram.ipynb\" target=\"_parent\"><img src=\"https://colab.research.google.com/assets/colab-badge.svg\" alt=\"Open In Colab\"/></a>"
      ]
    },
    {
      "cell_type": "code",
      "execution_count": 63,
      "id": "7f5cad18",
      "metadata": {
        "id": "7f5cad18"
      },
      "outputs": [],
      "source": [
        "import random\n",
        "from collections import defaultdict"
      ]
    },
    {
      "cell_type": "markdown",
      "source": [
        "### Text Data"
      ],
      "metadata": {
        "id": "S4xRJdbih_R_"
      },
      "id": "S4xRJdbih_R_"
    },
    {
      "cell_type": "code",
      "source": [
        "corpus = \"the cat sat on the mat the cat lay on the mat\"\n",
        "# corpus = \"Hello, how are you doing today? I am doing well, thank you for asking. What are your plans for the weekend? I might go to the park or visit a friend. Have you seen the latest movie in theaters? Yes, I watched it last night, and it was fantastic. The weather has been quite unpredictable lately. It rained heavily in the morning but was sunny in the afternoon. Do you prefer coffee or tea in the morning? I usually drink coffee, but sometimes I enjoy tea. The government announced new policies to boost the economy. Scientists have discovered a new exoplanet similar to Earth. The stock market experienced a significant surge today. A new artificial intelligence model is revolutionizing industries. Wildfires have spread across the western region due to dry conditions. Quantum computing is expected to change the future of cryptography. Neural networks mimic the way the human brain processes information. Researchers developed a new vaccine to combat the virus. Electric vehicles are becoming more popular due to sustainability concerns. The Mars rover sent back high-resolution images of the planet’s surface. “To be or not to be, that is the question.” The novel explores themes of identity and self-discovery. Plato’s philosophy emphasizes the importance of reason and knowledge. Poetry often captures deep emotions and profound thoughts. Classic literature provides insights into historical societies and cultures. The Roman Empire was one of the most powerful civilizations in history. Ancient Egypt is known for its pyramids and complex society. The Great Wall of China was built to protect against invasions. The Industrial Revolution transformed economies and societies worldwide. Many explorers risked their lives to map the world’s uncharted territories. The championship game ended in a dramatic overtime victory. Basketball requires both physical skill and strategic thinking. Music has the power to evoke deep emotions in listeners. The actor gave an incredible performance in the latest film. Streaming platforms have changed how people consume media.\""
      ],
      "metadata": {
        "id": "8WaeVjVehgDI"
      },
      "id": "8WaeVjVehgDI",
      "execution_count": 64,
      "outputs": []
    },
    {
      "cell_type": "markdown",
      "source": [
        "### Tokenize"
      ],
      "metadata": {
        "id": "OFFN_4mPiS5r"
      },
      "id": "OFFN_4mPiS5r"
    },
    {
      "cell_type": "code",
      "source": [
        "words = corpus.split()\n",
        "vocab = set(words)"
      ],
      "metadata": {
        "id": "ZgLlE7_chjOJ"
      },
      "id": "ZgLlE7_chjOJ",
      "execution_count": 65,
      "outputs": []
    },
    {
      "cell_type": "markdown",
      "source": [
        "### Step 1: Count bigram occurrences"
      ],
      "metadata": {
        "id": "zVHuabfciYg6"
      },
      "id": "zVHuabfciYg6"
    },
    {
      "cell_type": "code",
      "source": [
        "bigram_counts = defaultdict(lambda: defaultdict(int))\n",
        "\n",
        "for i in range(len(words) - 1):\n",
        "    w1, w2 = words[i], words[i + 1]\n",
        "    bigram_counts[w1][w2] += 1\n",
        "\n",
        "bigram_counts\n"
      ],
      "metadata": {
        "id": "vXlFRzXShlVc",
        "colab": {
          "base_uri": "https://localhost:8080/"
        },
        "outputId": "859306ca-8aa1-49b0-d7fd-904dce784d43"
      },
      "id": "vXlFRzXShlVc",
      "execution_count": 59,
      "outputs": [
        {
          "output_type": "execute_result",
          "data": {
            "text/plain": [
              "defaultdict(<function __main__.<lambda>()>,\n",
              "            {'the': defaultdict(int, {'cat': 2, 'mat': 2}),\n",
              "             'cat': defaultdict(int, {'sat': 1, 'lay': 1}),\n",
              "             'sat': defaultdict(int, {'on': 1}),\n",
              "             'on': defaultdict(int, {'the': 2}),\n",
              "             'mat': defaultdict(int, {'the': 1}),\n",
              "             'lay': defaultdict(int, {'on': 1})})"
            ]
          },
          "metadata": {},
          "execution_count": 59
        }
      ]
    },
    {
      "cell_type": "markdown",
      "source": [
        "### Step 2: Compute probabilities"
      ],
      "metadata": {
        "id": "-cRYq4IRiceR"
      },
      "id": "-cRYq4IRiceR"
    },
    {
      "cell_type": "code",
      "source": [
        "bigram_probs = {}\n",
        "\n",
        "for w1 in bigram_counts:\n",
        "    total_count = sum(bigram_counts[w1].values())\n",
        "    bigram_probs[w1] = {w2: count / total_count for w2, count in bigram_counts[w1].items()}\n",
        "\n",
        "bigram_probs"
      ],
      "metadata": {
        "id": "mS9YLBnRhpY9",
        "colab": {
          "base_uri": "https://localhost:8080/"
        },
        "outputId": "864095de-93e3-4c17-80e8-2569f5489591"
      },
      "id": "mS9YLBnRhpY9",
      "execution_count": 60,
      "outputs": [
        {
          "output_type": "execute_result",
          "data": {
            "text/plain": [
              "{'the': {'cat': 0.5, 'mat': 0.5},\n",
              " 'cat': {'sat': 0.5, 'lay': 0.5},\n",
              " 'sat': {'on': 1.0},\n",
              " 'on': {'the': 1.0},\n",
              " 'mat': {'the': 1.0},\n",
              " 'lay': {'on': 1.0}}"
            ]
          },
          "metadata": {},
          "execution_count": 60
        }
      ]
    },
    {
      "cell_type": "markdown",
      "source": [
        "### Step 3: Generate text using bigram probabilities"
      ],
      "metadata": {
        "id": "JCeAJiZMigtC"
      },
      "id": "JCeAJiZMigtC"
    },
    {
      "cell_type": "code",
      "source": [
        "def generate_text(start_word, length=10):\n",
        "    if start_word not in bigram_probs:\n",
        "        print(\"Word not in bigram model.\")\n",
        "        return\n",
        "\n",
        "    text = [start_word]\n",
        "\n",
        "    for _ in range(length - 1):\n",
        "        if text[-1] not in bigram_probs:\n",
        "            break\n",
        "        next_word = random.choices(\n",
        "            list(bigram_probs[text[-1]].keys()),\n",
        "            list(bigram_probs[text[-1]].values())\n",
        "        )[0]\n",
        "        text.append(next_word)\n",
        "\n",
        "    return \" \".join(text)\n"
      ],
      "metadata": {
        "id": "i-0iitV5h0r2"
      },
      "id": "i-0iitV5h0r2",
      "execution_count": 61,
      "outputs": []
    },
    {
      "cell_type": "markdown",
      "source": [
        "### Example Usage"
      ],
      "metadata": {
        "id": "WajP-JKzimHh"
      },
      "id": "WajP-JKzimHh"
    },
    {
      "cell_type": "code",
      "source": [
        "print(\"Bigram Probabilities:\")\n",
        "for w1, w2_probs in bigram_probs.items():\n",
        "    print(f\"{w1}: {w2_probs}\")\n",
        "\n",
        "print(\"\\nGenerated Text:\")\n",
        "print(generate_text(\"cat\", length=15))"
      ],
      "metadata": {
        "colab": {
          "base_uri": "https://localhost:8080/"
        },
        "id": "clzK04Noh6C3",
        "outputId": "bf2f78d9-ccf7-4943-89b7-03aa6110d952"
      },
      "id": "clzK04Noh6C3",
      "execution_count": 62,
      "outputs": [
        {
          "output_type": "stream",
          "name": "stdout",
          "text": [
            "Bigram Probabilities:\n",
            "the: {'cat': 0.5, 'mat': 0.5}\n",
            "cat: {'sat': 0.5, 'lay': 0.5}\n",
            "sat: {'on': 1.0}\n",
            "on: {'the': 1.0}\n",
            "mat: {'the': 1.0}\n",
            "lay: {'on': 1.0}\n",
            "\n",
            "Generated Text:\n",
            "cat lay on the cat lay on the cat sat on the cat sat on\n"
          ]
        }
      ]
    }
  ],
  "metadata": {
    "kernelspec": {
      "display_name": "cuda-gpt",
      "language": "python",
      "name": "cuda"
    },
    "language_info": {
      "codemirror_mode": {
        "name": "ipython",
        "version": 3
      },
      "file_extension": ".py",
      "mimetype": "text/x-python",
      "name": "python",
      "nbconvert_exporter": "python",
      "pygments_lexer": "ipython3",
      "version": "3.9.18"
    },
    "colab": {
      "provenance": [],
      "include_colab_link": true
    }
  },
  "nbformat": 4,
  "nbformat_minor": 5
}