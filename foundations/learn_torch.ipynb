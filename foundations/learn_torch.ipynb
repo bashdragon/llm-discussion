{
  "cells": [
    {
      "cell_type": "markdown",
      "metadata": {
        "id": "tsSJ-Jmb3tja"
      },
      "source": [
        "### Initialize tensors"
      ]
    },
    {
      "cell_type": "code",
      "execution_count": null,
      "metadata": {
        "id": "Qge1A7_j3tjd"
      },
      "outputs": [],
      "source": [
        "import torch\n",
        "import numpy as np"
      ]
    },
    {
      "cell_type": "code",
      "execution_count": null,
      "metadata": {
        "id": "IkJPhqxJ3tje"
      },
      "outputs": [],
      "source": [
        "device = \"cuda\" if torch.cuda.is_available() else \"cpu\"  # Cuda to run on GPU!\n"
      ]
    },
    {
      "cell_type": "code",
      "execution_count": null,
      "metadata": {
        "id": "3QjRqDFw3tje"
      },
      "outputs": [],
      "source": [
        "my_tensor = torch.tensor(\n",
        "    [[1, 2, 3], [4, 5, 6]], dtype=torch.float32, device=device, requires_grad=True\n",
        ")"
      ]
    },
    {
      "cell_type": "code",
      "source": [
        "my_tensor.nelement()"
      ],
      "metadata": {
        "colab": {
          "base_uri": "https://localhost:8080/"
        },
        "id": "3IY9mMCv9j0q",
        "outputId": "56f4347c-13f9-48a8-ecbe-91154684170e"
      },
      "execution_count": null,
      "outputs": [
        {
          "output_type": "execute_result",
          "data": {
            "text/plain": [
              "6"
            ]
          },
          "metadata": {},
          "execution_count": 7
        }
      ]
    },
    {
      "cell_type": "code",
      "source": [],
      "metadata": {
        "id": "tkHsH8109k5H"
      },
      "execution_count": null,
      "outputs": []
    },
    {
      "cell_type": "code",
      "execution_count": null,
      "metadata": {
        "colab": {
          "base_uri": "https://localhost:8080/"
        },
        "id": "OvWY1mJe3tjf",
        "outputId": "6dce2949-e51a-4795-fd7e-2f03a1d0a6fe"
      },
      "outputs": [
        {
          "output_type": "stream",
          "name": "stdout",
          "text": [
            "Information about tensor: tensor([[1., 2., 3.],\n",
            "        [4., 5., 6.]], device='cuda:0', requires_grad=True)\n",
            "Type of Tensor torch.float32\n",
            "Device Tensor is on cuda:0\n",
            "Shape of tensor torch.Size([2, 3])\n",
            "Requires gradient: True\n"
          ]
        }
      ],
      "source": [
        "print(\n",
        "    f\"Information about tensor: {my_tensor}\"\n",
        ")  # Prints data of the tensor, device and grad info\n",
        "print(\n",
        "    f\"Type of Tensor {my_tensor.dtype}\"\n",
        ")  # Prints dtype of the tensor (torch.float32, etc)\n",
        "print(\n",
        "    f\"Device Tensor is on {my_tensor.device}\"\n",
        ")  # Prints cpu/cuda (followed by gpu number)\n",
        "print(f\"Shape of tensor {my_tensor.shape}\")  # Prints shape, in this case 2x3\n",
        "print(f\"Requires gradient: {my_tensor.requires_grad}\")  # Prints true/false"
      ]
    },
    {
      "cell_type": "code",
      "execution_count": null,
      "metadata": {
        "colab": {
          "base_uri": "https://localhost:8080/"
        },
        "id": "_H5z2kZH3tjf",
        "outputId": "2f1f8cbe-3f96-43ba-f678-19555e9d1053"
      },
      "outputs": [
        {
          "output_type": "execute_result",
          "data": {
            "text/plain": [
              "tensor([[-2.8346e-33,  4.4840e-41,  6.9264e-30],\n",
              "        [ 0.0000e+00,  7.8290e-30,  0.0000e+00],\n",
              "        [ 2.4682e-33,  0.0000e+00,  0.0000e+00]])"
            ]
          },
          "metadata": {},
          "execution_count": 9
        }
      ],
      "source": [
        "x = torch.empty(size=(3, 3))  # Tensor of shape 3x3 with uninitialized data\n",
        "x"
      ]
    },
    {
      "cell_type": "code",
      "execution_count": null,
      "metadata": {
        "colab": {
          "base_uri": "https://localhost:8080/"
        },
        "id": "2PKWlI8w3tjg",
        "outputId": "6bf3cb5a-7020-4e73-88a0-31c8c197ccca"
      },
      "outputs": [
        {
          "output_type": "execute_result",
          "data": {
            "text/plain": [
              "tensor([[0.6787, 0.9374, 0.4770],\n",
              "        [0.8376, 0.5313, 0.7947]])"
            ]
          },
          "metadata": {},
          "execution_count": 14
        }
      ],
      "source": [
        "x = torch.rand((2, 3))  # Tensor of shape 3x3 with values of 0\n",
        "x"
      ]
    },
    {
      "cell_type": "code",
      "source": [
        "torch.zeros_like(x)  # Tensor of shape 3x3 with values of 0"
      ],
      "metadata": {
        "colab": {
          "base_uri": "https://localhost:8080/"
        },
        "id": "bAHATupN-wTj",
        "outputId": "bafa9475-7198-4cd0-9509-251249222d63"
      },
      "execution_count": null,
      "outputs": [
        {
          "output_type": "execute_result",
          "data": {
            "text/plain": [
              "tensor([[0., 0., 0.],\n",
              "        [0., 0., 0.]])"
            ]
          },
          "metadata": {},
          "execution_count": 15
        }
      ]
    },
    {
      "cell_type": "code",
      "execution_count": null,
      "metadata": {
        "id": "vDd0bOYq3tjg"
      },
      "outputs": [],
      "source": [
        "x = torch.rand(\n",
        "    (3, 3)\n",
        ")  # Tensor of shape 3x3 with values from uniform distribution in interval [0,1)"
      ]
    },
    {
      "cell_type": "code",
      "execution_count": null,
      "metadata": {
        "colab": {
          "base_uri": "https://localhost:8080/"
        },
        "id": "lVaC7pT-3tjg",
        "outputId": "bcdbaa20-4a61-4ac8-cbc2-70d4f3caf855"
      },
      "outputs": [
        {
          "output_type": "execute_result",
          "data": {
            "text/plain": [
              "tensor([[1., 1., 1.],\n",
              "        [1., 1., 1.],\n",
              "        [1., 1., 1.]])"
            ]
          },
          "metadata": {},
          "execution_count": 16
        }
      ],
      "source": [
        "x = torch.ones((3, 3))  # Tensor of shape 3x3 with values of 1\n",
        "x"
      ]
    },
    {
      "cell_type": "code",
      "source": [
        "torch.triu(x, diagonal=1)"
      ],
      "metadata": {
        "colab": {
          "base_uri": "https://localhost:8080/"
        },
        "id": "43okZujD_R6Y",
        "outputId": "b368b86d-e20a-4386-cd79-edb6ec1792cc"
      },
      "execution_count": null,
      "outputs": [
        {
          "output_type": "execute_result",
          "data": {
            "text/plain": [
              "tensor([[0., 1., 1.],\n",
              "        [0., 0., 1.],\n",
              "        [0., 0., 0.]])"
            ]
          },
          "metadata": {},
          "execution_count": 18
        }
      ]
    },
    {
      "cell_type": "code",
      "execution_count": null,
      "metadata": {
        "colab": {
          "base_uri": "https://localhost:8080/"
        },
        "id": "1CeRemRF3tjh",
        "outputId": "ab5715fe-a226-4e8a-b6be-3f58585a943f"
      },
      "outputs": [
        {
          "output_type": "execute_result",
          "data": {
            "text/plain": [
              "tensor([[1., 0., 0., 0., 0.],\n",
              "        [0., 1., 0., 0., 0.],\n",
              "        [0., 0., 1., 0., 0.],\n",
              "        [0., 0., 0., 1., 0.],\n",
              "        [0., 0., 0., 0., 1.]])"
            ]
          },
          "metadata": {},
          "execution_count": 20
        }
      ],
      "source": [
        "x = torch.eye(5, 5)  # Returns Identity Matrix I, (I <-> Eye), matrix of shape 2x3\n",
        "x"
      ]
    },
    {
      "cell_type": "code",
      "execution_count": null,
      "metadata": {
        "colab": {
          "base_uri": "https://localhost:8080/"
        },
        "id": "xsMF7Y313tjh",
        "outputId": "183dee39-21ee-43ba-ae75-38c4d95e32e8"
      },
      "outputs": [
        {
          "output_type": "execute_result",
          "data": {
            "text/plain": [
              "tensor([0, 1, 2, 3, 4])"
            ]
          },
          "metadata": {},
          "execution_count": 21
        }
      ],
      "source": [
        "x = torch.arange(\n",
        "    start=0, end=5, step=1\n",
        ")  # Tensor [0, 1, 2, 3, 4], note, can also do: torch.arange(11)\n",
        "x"
      ]
    },
    {
      "cell_type": "code",
      "execution_count": null,
      "metadata": {
        "colab": {
          "base_uri": "https://localhost:8080/"
        },
        "id": "6DSH0hyI3tjh",
        "outputId": "d32df3f2-2943-4f39-f721-adb1296573eb"
      },
      "outputs": [
        {
          "output_type": "execute_result",
          "data": {
            "text/plain": [
              "tensor([0.1000, 0.2000, 0.3000, 0.4000, 0.5000, 0.6000, 0.7000, 0.8000, 0.9000,\n",
              "        1.0000])"
            ]
          },
          "metadata": {},
          "execution_count": 22
        }
      ],
      "source": [
        "x = torch.linspace(start=0.1, end=1, steps=10)  # x = [0.1, 0.2, ..., 1]\n",
        "x"
      ]
    },
    {
      "cell_type": "code",
      "execution_count": null,
      "metadata": {
        "colab": {
          "base_uri": "https://localhost:8080/"
        },
        "id": "q-UsDkV_3tjh",
        "outputId": "c3995df6-f7cc-4926-e4be-d67ae5a9290e"
      },
      "outputs": [
        {
          "output_type": "execute_result",
          "data": {
            "text/plain": [
              "tensor([[-0.4647,  0.2569, -0.4933, -0.4327,  0.8193]])"
            ]
          },
          "metadata": {},
          "execution_count": 23
        }
      ],
      "source": [
        "x = torch.empty(size=(1, 5)).normal_(\n",
        "    mean=0, std=1\n",
        ")  # Normally distributed with mean=0, std=1\n",
        "x"
      ]
    },
    {
      "cell_type": "code",
      "execution_count": null,
      "metadata": {
        "id": "zw5g_V443tji"
      },
      "outputs": [],
      "source": [
        "x = torch.empty(size=(1, 5)).uniform_(\n",
        "    0, 1\n",
        ")  # Values from a uniform distribution low=0, high=1"
      ]
    },
    {
      "cell_type": "code",
      "execution_count": null,
      "metadata": {
        "colab": {
          "base_uri": "https://localhost:8080/"
        },
        "id": "pQSCli6Q3tji",
        "outputId": "7d51c1e7-752a-4408-d619-70d25b2bae46"
      },
      "outputs": [
        {
          "output_type": "stream",
          "name": "stdout",
          "text": [
            "tensor([[0.4906, 0.5553, 0.2622],\n",
            "        [0.1623, 0.8256, 0.8871],\n",
            "        [0.1452, 0.4542, 0.8798]])\n",
            "\n",
            "\n"
          ]
        },
        {
          "output_type": "execute_result",
          "data": {
            "text/plain": [
              "tensor([0.4906, 0.8256, 0.8798])"
            ]
          },
          "metadata": {},
          "execution_count": 26
        }
      ],
      "source": [
        "y=torch.rand(3,3)\n",
        "print(y)\n",
        "print(\"\\n\")\n",
        "x = torch.diag(y)  # Diagonal matrix of shape 3x3\n",
        "x"
      ]
    },
    {
      "cell_type": "code",
      "execution_count": null,
      "metadata": {
        "colab": {
          "base_uri": "https://localhost:8080/"
        },
        "id": "NgXy4fyj3tji",
        "outputId": "5aa5df60-cc93-47d4-a829-1e3b887e4778"
      },
      "outputs": [
        {
          "output_type": "stream",
          "name": "stdout",
          "text": [
            "Converted Boolean: tensor([False,  True,  True,  True])\n",
            "Converted int16 tensor([0, 1, 2, 3], dtype=torch.int16)\n",
            "Converted int64 tensor([0, 1, 2, 3])\n",
            "Converted float16 tensor([0., 1., 2., 3.], dtype=torch.float16)\n",
            "Converted float32 tensor([0., 1., 2., 3.])\n",
            "Converted float64 tensor([0., 1., 2., 3.], dtype=torch.float64)\n"
          ]
        }
      ],
      "source": [
        "tensor = torch.arange(4)  # [0, 1, 2, 3] Initialized as int64 by default\n",
        "print(f\"Converted Boolean: {tensor.bool()}\")  # Converted to Boolean: 1 if nonzero\n",
        "print(f\"Converted int16 {tensor.short()}\")  # Converted to int16\n",
        "print(\n",
        "    f\"Converted int64 {tensor.long()}\"\n",
        ")  # Converted to int64 (This one is very important, used super often)\n",
        "print(f\"Converted float16 {tensor.half()}\")  # Converted to float16\n",
        "print(\n",
        "    f\"Converted float32 {tensor.float()}\"\n",
        ")  # Converted to float32 (This one is very important, used super often)\n",
        "print(f\"Converted float64 {tensor.double()}\")  # Converted to float64\n"
      ]
    },
    {
      "cell_type": "code",
      "execution_count": null,
      "metadata": {
        "colab": {
          "base_uri": "https://localhost:8080/"
        },
        "id": "pJikMWFw3tji",
        "outputId": "9dd1af5b-acb6-43b5-c1ac-31f2edd5273b"
      },
      "outputs": [
        {
          "output_type": "execute_result",
          "data": {
            "text/plain": [
              "tensor([[0., 0., 0., 0., 0.],\n",
              "        [0., 0., 0., 0., 0.],\n",
              "        [0., 0., 0., 0., 0.],\n",
              "        [0., 0., 0., 0., 0.],\n",
              "        [0., 0., 0., 0., 0.]], dtype=torch.float64)"
            ]
          },
          "metadata": {},
          "execution_count": 28
        }
      ],
      "source": [
        "np_array = np.zeros((5, 5))\n",
        "tensor = torch.from_numpy(np_array)\n",
        "tensor"
      ]
    },
    {
      "cell_type": "code",
      "execution_count": null,
      "metadata": {
        "id": "ggNleETR3tji"
      },
      "outputs": [],
      "source": [
        "np_array_again = (\n",
        "    tensor.numpy()\n",
        ")  # np_array_again will be same as np_array (perhaps with numerical round offs)"
      ]
    },
    {
      "cell_type": "markdown",
      "metadata": {
        "id": "I8CYq0eb3tji"
      },
      "source": [
        "### Tensor Math & Comparison Operations  "
      ]
    },
    {
      "cell_type": "code",
      "execution_count": null,
      "metadata": {
        "id": "GHO_nFl63tji"
      },
      "outputs": [],
      "source": [
        "x = torch.tensor([1, 2, 3])\n",
        "y = torch.tensor([9, 8, 7, 8])"
      ]
    },
    {
      "cell_type": "code",
      "execution_count": null,
      "metadata": {
        "colab": {
          "base_uri": "https://localhost:8080/",
          "height": 159
        },
        "id": "Y_8UGkeH3tji",
        "outputId": "1f0abef4-5cdd-471d-8ea9-837e87cb3a69"
      },
      "outputs": [
        {
          "output_type": "error",
          "ename": "RuntimeError",
          "evalue": "The size of tensor a (3) must match the size of tensor b (4) at non-singleton dimension 0",
          "traceback": [
            "\u001b[0;31m---------------------------------------------------------------------------\u001b[0m",
            "\u001b[0;31mRuntimeError\u001b[0m                              Traceback (most recent call last)",
            "\u001b[0;32m<ipython-input-32-3e317b46df79>\u001b[0m in \u001b[0;36m<cell line: 0>\u001b[0;34m()\u001b[0m\n\u001b[0;32m----> 1\u001b[0;31m \u001b[0mz2\u001b[0m \u001b[0;34m=\u001b[0m \u001b[0mtorch\u001b[0m\u001b[0;34m.\u001b[0m\u001b[0madd\u001b[0m\u001b[0;34m(\u001b[0m\u001b[0mx\u001b[0m\u001b[0;34m,\u001b[0m \u001b[0my\u001b[0m\u001b[0;34m)\u001b[0m\u001b[0;34m\u001b[0m\u001b[0;34m\u001b[0m\u001b[0m\n\u001b[0m\u001b[1;32m      2\u001b[0m \u001b[0mz2\u001b[0m\u001b[0;34m\u001b[0m\u001b[0;34m\u001b[0m\u001b[0m\n",
            "\u001b[0;31mRuntimeError\u001b[0m: The size of tensor a (3) must match the size of tensor b (4) at non-singleton dimension 0"
          ]
        }
      ],
      "source": [
        "z2 = torch.add(x, y)\n",
        "z2"
      ]
    },
    {
      "cell_type": "code",
      "execution_count": null,
      "metadata": {
        "id": "djjOmDxF3tjj",
        "outputId": "8b4015da-f4d8-43f2-a763-16d7fa6800a0"
      },
      "outputs": [
        {
          "data": {
            "text/plain": [
              "tensor([-8, -6, -4])"
            ]
          },
          "execution_count": 6,
          "metadata": {},
          "output_type": "execute_result"
        }
      ],
      "source": [
        "torch.subtract(x, y)"
      ]
    },
    {
      "cell_type": "code",
      "execution_count": null,
      "metadata": {
        "id": "-UCxBHz53tjj",
        "outputId": "0e4b3d30-cdfb-42d0-b5bf-39cd57bd923b"
      },
      "outputs": [
        {
          "data": {
            "text/plain": [
              "tensor([10, 10, 10])"
            ]
          },
          "execution_count": 7,
          "metadata": {},
          "output_type": "execute_result"
        }
      ],
      "source": [
        "x + y"
      ]
    },
    {
      "cell_type": "code",
      "execution_count": null,
      "metadata": {
        "id": "6DlTDTqV3tjj",
        "outputId": "c859065b-b0c7-4a23-aa9c-8b1a7724c9ca"
      },
      "outputs": [
        {
          "data": {
            "text/plain": [
              "tensor([-8, -6, -4])"
            ]
          },
          "execution_count": 8,
          "metadata": {},
          "output_type": "execute_result"
        }
      ],
      "source": [
        "x - y"
      ]
    },
    {
      "cell_type": "code",
      "execution_count": null,
      "metadata": {
        "colab": {
          "base_uri": "https://localhost:8080/"
        },
        "id": "9wCDKOOj3tjj",
        "outputId": "7ca3e4c6-c58a-4382-d0c5-4895fd9de25b"
      },
      "outputs": [
        {
          "output_type": "execute_result",
          "data": {
            "text/plain": [
              "tensor([0.1111, 0.2500, 0.4286])"
            ]
          },
          "metadata": {},
          "execution_count": 30
        }
      ],
      "source": [
        "z = torch.true_divide(x, y)\n",
        "z"
      ]
    },
    {
      "cell_type": "code",
      "execution_count": null,
      "metadata": {
        "id": "mvKFHXfO3tjj",
        "outputId": "01ef63e3-0f65-4ab3-a5fe-a2582c1215f2"
      },
      "outputs": [
        {
          "name": "stdout",
          "output_type": "stream",
          "text": [
            "tensor([0., 0., 0.])\n",
            "tensor([2., 4., 6.])\n"
          ]
        }
      ],
      "source": [
        "# -- Inplace Operations --\n",
        "t = torch.zeros(3)\n",
        "print(t)\n",
        "\n",
        "t.add_(x)  # Whenever we have operation followed by _ it will mutate the tensor in place\n",
        "t += x  # Also inplace\n",
        "print(t)"
      ]
    },
    {
      "cell_type": "code",
      "execution_count": null,
      "metadata": {
        "id": "5e7WmPvU3tjk"
      },
      "outputs": [],
      "source": [
        "# -- Exponentiation --\n",
        "z = x.pow(2)  # z = [1, 4, 9]\n",
        "z = x**2  # z = [1, 4, 9]"
      ]
    },
    {
      "cell_type": "code",
      "execution_count": null,
      "metadata": {
        "id": "HhxOa-7W3tjk"
      },
      "outputs": [],
      "source": [
        "z = x > 0  # Returns [True, True, True]\n",
        "z = x < 0  # Returns [False, False, False]"
      ]
    },
    {
      "cell_type": "code",
      "execution_count": null,
      "metadata": {
        "colab": {
          "base_uri": "https://localhost:8080/"
        },
        "id": "Um1e2ODu3tjk",
        "outputId": "5badf700-e8f6-4076-d1a2-25cf33717568"
      },
      "outputs": [
        {
          "output_type": "stream",
          "name": "stdout",
          "text": [
            "tensor([[0.2854, 0.0284, 0.7142, 0.5575, 0.4672],\n",
            "        [0.6759, 0.5752, 0.1610, 0.2334, 0.3734]])\n",
            "\n",
            "\n",
            "tensor([[0.2663, 0.8196, 0.1117],\n",
            "        [0.3621, 0.8272, 0.4406],\n",
            "        [0.4303, 0.9158, 0.8760],\n",
            "        [0.5390, 0.5782, 0.1401],\n",
            "        [0.0993, 0.7633, 0.8131]])\n",
            "\n",
            "\n",
            "tensor([[0.7404, 1.5904, 1.1280],\n",
            "        [0.6204, 1.5972, 0.8063]])\n"
          ]
        }
      ],
      "source": [
        "x1 = torch.rand((2, 5))\n",
        "print(x1)\n",
        "print(\"\\n\")\n",
        "\n",
        "x2 = torch.rand((5, 3))\n",
        "print(x2)\n",
        "print(\"\\n\")\n",
        "\n",
        "x3 = torch.mm(x1, x2)  # Matrix multiplication of x1 and x2, out shape: 2x3\n",
        "print(x3)"
      ]
    },
    {
      "cell_type": "code",
      "execution_count": null,
      "metadata": {
        "colab": {
          "base_uri": "https://localhost:8080/"
        },
        "id": "2CYRO9883tjk",
        "outputId": "0dad16a5-6e4e-4e74-f274-78b52a901396"
      },
      "outputs": [
        {
          "output_type": "execute_result",
          "data": {
            "text/plain": [
              "tensor([[0.7404, 1.5904, 1.1280],\n",
              "        [0.6204, 1.5972, 0.8063]])"
            ]
          },
          "metadata": {},
          "execution_count": 37
        }
      ],
      "source": [
        "x1@x2"
      ]
    },
    {
      "cell_type": "code",
      "execution_count": null,
      "metadata": {
        "colab": {
          "base_uri": "https://localhost:8080/"
        },
        "id": "GrmRwmfy3tjk",
        "outputId": "2fd7fc70-bd00-4d54-f81f-a0536f957d1a"
      },
      "outputs": [
        {
          "output_type": "execute_result",
          "data": {
            "text/plain": [
              "tensor([[0.7404, 1.5904, 1.1280],\n",
              "        [0.6204, 1.5972, 0.8063]])"
            ]
          },
          "metadata": {},
          "execution_count": 38
        }
      ],
      "source": [
        "x1.mm(x2)"
      ]
    },
    {
      "cell_type": "code",
      "execution_count": null,
      "metadata": {
        "colab": {
          "base_uri": "https://localhost:8080/"
        },
        "id": "dPMg4Wfc3tjk",
        "outputId": "6bc11db3-c40d-4b5c-ef51-26d34d9c8692"
      },
      "outputs": [
        {
          "output_type": "stream",
          "name": "stdout",
          "text": [
            "tensor([[0.1140, 0.6547, 0.5395, 0.7345, 0.2381],\n",
            "        [0.3197, 0.4620, 0.2840, 0.9061, 0.8724],\n",
            "        [0.9396, 0.9269, 0.5032, 0.9023, 0.7048],\n",
            "        [0.3060, 0.9004, 0.1595, 0.2616, 0.3616],\n",
            "        [0.0448, 0.9939, 0.4711, 0.3938, 0.1026]])\n",
            "\n",
            "\n",
            "tensor([[1.8809, 4.7113, 2.2298, 3.8711, 2.9602],\n",
            "        [2.2915, 4.9572, 2.3450, 4.4360, 3.6071],\n",
            "        [3.3542, 7.5848, 3.4909, 6.3179, 5.0620],\n",
            "        [1.6457, 4.0135, 1.7935, 3.0920, 2.4414],\n",
            "        [1.6789, 4.5347, 2.0836, 3.4262, 2.5617]])\n"
          ]
        }
      ],
      "source": [
        "matrix_exp = torch.rand(5, 5)\n",
        "print(matrix_exp)\n",
        "print(\"\\n\")\n",
        "print(\n",
        "    matrix_exp.matrix_power(3)\n",
        ")  # is same as matrix_exp (mm) matrix_exp (mm) matrix_exp"
      ]
    },
    {
      "cell_type": "code",
      "execution_count": null,
      "metadata": {
        "colab": {
          "base_uri": "https://localhost:8080/"
        },
        "id": "fFF30o6A3tjl",
        "outputId": "a104d229-f9b2-4354-bb29-66b368a4bca5"
      },
      "outputs": [
        {
          "output_type": "execute_result",
          "data": {
            "text/plain": [
              "tensor([[1.8809, 4.7113, 2.2298, 3.8711, 2.9602],\n",
              "        [2.2915, 4.9572, 2.3450, 4.4360, 3.6071],\n",
              "        [3.3542, 7.5848, 3.4909, 6.3179, 5.0620],\n",
              "        [1.6457, 4.0135, 1.7935, 3.0920, 2.4414],\n",
              "        [1.6789, 4.5347, 2.0836, 3.4262, 2.5617]])"
            ]
          },
          "metadata": {},
          "execution_count": 40
        }
      ],
      "source": [
        "matrix_exp@matrix_exp@matrix_exp"
      ]
    },
    {
      "cell_type": "code",
      "execution_count": null,
      "metadata": {
        "colab": {
          "base_uri": "https://localhost:8080/"
        },
        "id": "vB_311TC3tjl",
        "outputId": "2529b706-d4c8-40c4-f6bd-4fee1e1c5ae7"
      },
      "outputs": [
        {
          "output_type": "execute_result",
          "data": {
            "text/plain": [
              "tensor([[1.4805e-03, 2.8058e-01, 1.5706e-01, 3.9631e-01, 1.3506e-02],\n",
              "        [3.2678e-02, 9.8588e-02, 2.2898e-02, 7.4404e-01, 6.6408e-01],\n",
              "        [8.2950e-01, 7.9637e-01, 1.2741e-01, 7.3460e-01, 3.5003e-01],\n",
              "        [2.8657e-02, 7.3008e-01, 4.0539e-03, 1.7909e-02, 4.7273e-02],\n",
              "        [8.9813e-05, 9.8170e-01, 1.0453e-01, 6.1059e-02, 1.0805e-03]])"
            ]
          },
          "metadata": {},
          "execution_count": 41
        }
      ],
      "source": [
        "matrix_exp**3"
      ]
    },
    {
      "cell_type": "code",
      "execution_count": null,
      "metadata": {
        "colab": {
          "base_uri": "https://localhost:8080/"
        },
        "id": "NkLQS2cH3tjl",
        "outputId": "2f581d0b-6e7c-4d45-f520-e3594933325e"
      },
      "outputs": [
        {
          "output_type": "execute_result",
          "data": {
            "text/plain": [
              "tensor([[1.4805e-03, 2.8058e-01, 1.5706e-01, 3.9631e-01, 1.3506e-02],\n",
              "        [3.2678e-02, 9.8588e-02, 2.2898e-02, 7.4404e-01, 6.6408e-01],\n",
              "        [8.2950e-01, 7.9637e-01, 1.2741e-01, 7.3460e-01, 3.5003e-01],\n",
              "        [2.8657e-02, 7.3008e-01, 4.0539e-03, 1.7909e-02, 4.7273e-02],\n",
              "        [8.9813e-05, 9.8170e-01, 1.0453e-01, 6.1059e-02, 1.0805e-03]])"
            ]
          },
          "metadata": {},
          "execution_count": 42
        }
      ],
      "source": [
        "matrix_exp.pow(3)"
      ]
    },
    {
      "cell_type": "code",
      "execution_count": null,
      "metadata": {
        "colab": {
          "base_uri": "https://localhost:8080/"
        },
        "id": "Jv0xkUI93tjl",
        "outputId": "96744049-8316-4a89-b87e-7396d192da9f"
      },
      "outputs": [
        {
          "output_type": "execute_result",
          "data": {
            "text/plain": [
              "tensor([[1.4805e-03, 2.8058e-01, 1.5706e-01, 3.9631e-01, 1.3506e-02],\n",
              "        [3.2678e-02, 9.8588e-02, 2.2898e-02, 7.4404e-01, 6.6408e-01],\n",
              "        [8.2950e-01, 7.9637e-01, 1.2741e-01, 7.3460e-01, 3.5003e-01],\n",
              "        [2.8657e-02, 7.3008e-01, 4.0539e-03, 1.7909e-02, 4.7273e-02],\n",
              "        [8.9813e-05, 9.8170e-01, 1.0453e-01, 6.1059e-02, 1.0805e-03]])"
            ]
          },
          "metadata": {},
          "execution_count": 43
        }
      ],
      "source": [
        "matrix_exp*matrix_exp*matrix_exp"
      ]
    },
    {
      "cell_type": "code",
      "execution_count": null,
      "metadata": {
        "colab": {
          "base_uri": "https://localhost:8080/"
        },
        "id": "Eea9WX8B3tjl",
        "outputId": "a167f51b-a115-482d-9c3b-c185269f3003"
      },
      "outputs": [
        {
          "output_type": "stream",
          "name": "stdout",
          "text": [
            "tensor([[1., 1., 1.],\n",
            "        [1., 1., 1.],\n",
            "        [1., 1., 1.]])\n"
          ]
        },
        {
          "output_type": "execute_result",
          "data": {
            "text/plain": [
              "tensor([[2.7183, 2.7183, 2.7183],\n",
              "        [2.7183, 2.7183, 2.7183],\n",
              "        [2.7183, 2.7183, 2.7183]])"
            ]
          },
          "metadata": {},
          "execution_count": 45
        }
      ],
      "source": [
        "t = torch.ones((3,3))\n",
        "print(t)\n",
        "torch.exp(t)"
      ]
    },
    {
      "cell_type": "code",
      "execution_count": null,
      "metadata": {
        "id": "0R41L-D83tjm",
        "outputId": "ff05832f-1c90-4659-a5b0-696fd2ba74df"
      },
      "outputs": [
        {
          "data": {
            "text/plain": [
              "1.1421357790421207"
            ]
          },
          "execution_count": 28,
          "metadata": {},
          "output_type": "execute_result"
        }
      ],
      "source": [
        "import math\n",
        "math.e**0.1329"
      ]
    },
    {
      "cell_type": "code",
      "execution_count": null,
      "metadata": {
        "colab": {
          "base_uri": "https://localhost:8080/",
          "height": 159
        },
        "id": "B_bc_VqN3tjm",
        "outputId": "7bc6a2c9-33eb-41a3-be59-6d4988402a4d"
      },
      "outputs": [
        {
          "output_type": "error",
          "ename": "RuntimeError",
          "evalue": "inconsistent tensor size, expected tensor [3] and src [4] to have the same number of elements, but got 3 and 4 elements respectively",
          "traceback": [
            "\u001b[0;31m---------------------------------------------------------------------------\u001b[0m",
            "\u001b[0;31mRuntimeError\u001b[0m                              Traceback (most recent call last)",
            "\u001b[0;32m<ipython-input-46-c81a1cd97fd5>\u001b[0m in \u001b[0;36m<cell line: 0>\u001b[0;34m()\u001b[0m\n\u001b[0;32m----> 1\u001b[0;31m \u001b[0mz\u001b[0m \u001b[0;34m=\u001b[0m \u001b[0mtorch\u001b[0m\u001b[0;34m.\u001b[0m\u001b[0mdot\u001b[0m\u001b[0;34m(\u001b[0m\u001b[0mx\u001b[0m\u001b[0;34m,\u001b[0m \u001b[0my\u001b[0m\u001b[0;34m)\u001b[0m\u001b[0;34m\u001b[0m\u001b[0;34m\u001b[0m\u001b[0m\n\u001b[0m\u001b[1;32m      2\u001b[0m \u001b[0mz\u001b[0m\u001b[0;34m\u001b[0m\u001b[0;34m\u001b[0m\u001b[0m\n",
            "\u001b[0;31mRuntimeError\u001b[0m: inconsistent tensor size, expected tensor [3] and src [4] to have the same number of elements, but got 3 and 4 elements respectively"
          ]
        }
      ],
      "source": [
        "z = torch.dot(x, y)\n",
        "z"
      ]
    },
    {
      "cell_type": "code",
      "execution_count": null,
      "metadata": {
        "id": "0EWk37Ik3tjm"
      },
      "outputs": [],
      "source": [
        "batch = 32\n",
        "n = 10\n",
        "m = 20\n",
        "p = 30\n",
        "tensor1 = torch.rand((batch, n, m))\n",
        "tensor2 = torch.rand((batch, m, p))\n",
        "out_bmm = torch.bmm(tensor1, tensor2)  # Will be shape: (b x n x p)"
      ]
    },
    {
      "cell_type": "code",
      "source": [
        "print(tensor1)\n",
        "print(\"\\n\")\n",
        "print(tensor2)\n",
        "print(\"\\n\")\n",
        "print(out_bmm.shape)\n"
      ],
      "metadata": {
        "colab": {
          "base_uri": "https://localhost:8080/"
        },
        "id": "OzIAGbv2GHxJ",
        "outputId": "d3f069cd-c005-44d0-d507-4afbb65ee07c"
      },
      "execution_count": null,
      "outputs": [
        {
          "output_type": "stream",
          "name": "stdout",
          "text": [
            "tensor([[[9.8038e-01, 9.8813e-01, 3.5680e-01,  ..., 9.8985e-01,\n",
            "          8.5053e-01, 2.1648e-01],\n",
            "         [9.7417e-01, 9.3869e-01, 9.5796e-01,  ..., 4.4404e-01,\n",
            "          6.0848e-01, 1.8526e-01],\n",
            "         [5.4595e-01, 3.2652e-01, 1.0672e-02,  ..., 9.4811e-01,\n",
            "          7.4017e-01, 6.3535e-01],\n",
            "         ...,\n",
            "         [4.1733e-01, 2.6474e-01, 4.8846e-01,  ..., 2.9338e-01,\n",
            "          6.6010e-01, 7.4619e-01],\n",
            "         [5.4607e-01, 2.5753e-01, 1.3760e-01,  ..., 8.2780e-01,\n",
            "          5.6017e-02, 4.2046e-01],\n",
            "         [6.2968e-01, 2.4155e-01, 8.9073e-01,  ..., 4.8414e-01,\n",
            "          5.9949e-01, 3.7681e-01]],\n",
            "\n",
            "        [[9.0042e-01, 4.8265e-01, 3.7425e-01,  ..., 8.4686e-01,\n",
            "          4.1728e-01, 3.8691e-01],\n",
            "         [9.5170e-01, 8.8676e-01, 4.9835e-01,  ..., 4.1511e-01,\n",
            "          3.9281e-01, 5.5331e-01],\n",
            "         [7.8889e-01, 6.5299e-01, 8.2030e-01,  ..., 8.7267e-01,\n",
            "          2.9368e-01, 9.5591e-01],\n",
            "         ...,\n",
            "         [5.9980e-01, 9.2602e-01, 8.8614e-02,  ..., 1.2715e-01,\n",
            "          9.8209e-01, 9.6633e-01],\n",
            "         [1.8851e-01, 5.7244e-01, 2.0792e-01,  ..., 4.5752e-01,\n",
            "          6.1465e-01, 3.8177e-01],\n",
            "         [3.0165e-01, 6.4222e-01, 5.6898e-02,  ..., 5.8398e-01,\n",
            "          3.8812e-01, 9.8516e-01]],\n",
            "\n",
            "        [[1.7897e-01, 1.0485e-01, 1.7667e-01,  ..., 7.9114e-01,\n",
            "          9.1751e-01, 1.7403e-01],\n",
            "         [7.8773e-02, 5.3000e-01, 2.4963e-01,  ..., 9.9431e-01,\n",
            "          2.0260e-02, 4.6549e-01],\n",
            "         [9.9722e-01, 4.1584e-01, 4.8512e-01,  ..., 5.1245e-01,\n",
            "          6.1876e-01, 8.7624e-01],\n",
            "         ...,\n",
            "         [5.0002e-01, 9.3815e-01, 4.9287e-01,  ..., 3.4173e-01,\n",
            "          6.6805e-01, 9.3492e-01],\n",
            "         [8.8832e-01, 3.8879e-01, 6.9738e-01,  ..., 9.1909e-01,\n",
            "          3.4620e-01, 3.8128e-01],\n",
            "         [3.0402e-01, 5.2001e-01, 5.7067e-01,  ..., 6.3464e-01,\n",
            "          9.5288e-01, 2.4058e-01]],\n",
            "\n",
            "        ...,\n",
            "\n",
            "        [[6.2825e-01, 2.7203e-01, 7.1616e-01,  ..., 4.2328e-01,\n",
            "          1.6433e-01, 2.5123e-04],\n",
            "         [2.6132e-01, 5.5425e-01, 5.9129e-01,  ..., 2.6766e-01,\n",
            "          4.0976e-01, 3.7611e-01],\n",
            "         [1.3794e-01, 9.7464e-01, 4.8178e-01,  ..., 2.7308e-01,\n",
            "          4.1869e-01, 8.3019e-01],\n",
            "         ...,\n",
            "         [6.1453e-01, 6.1575e-01, 7.3144e-01,  ..., 5.8906e-01,\n",
            "          9.3726e-01, 5.4192e-01],\n",
            "         [9.7501e-01, 3.0229e-01, 5.1147e-01,  ..., 4.8167e-01,\n",
            "          5.9821e-01, 3.5704e-01],\n",
            "         [5.6312e-01, 2.7098e-01, 5.2828e-01,  ..., 2.0355e-01,\n",
            "          8.5691e-02, 8.6094e-02]],\n",
            "\n",
            "        [[5.2362e-01, 2.3784e-01, 8.6189e-01,  ..., 9.4546e-01,\n",
            "          3.0449e-01, 1.4165e-02],\n",
            "         [6.3523e-01, 5.6381e-01, 2.0335e-01,  ..., 9.5937e-01,\n",
            "          4.5496e-01, 5.8634e-02],\n",
            "         [7.5746e-01, 5.5424e-01, 3.9659e-01,  ..., 6.0864e-01,\n",
            "          9.1597e-01, 4.8729e-01],\n",
            "         ...,\n",
            "         [6.4050e-01, 9.0717e-01, 3.2206e-01,  ..., 9.5514e-01,\n",
            "          1.4715e-02, 7.0791e-01],\n",
            "         [4.6959e-01, 1.5720e-01, 6.6469e-01,  ..., 5.2153e-01,\n",
            "          8.1458e-01, 7.9225e-01],\n",
            "         [2.5231e-01, 6.5183e-02, 4.8521e-01,  ..., 5.9251e-01,\n",
            "          5.6131e-01, 2.5958e-01]],\n",
            "\n",
            "        [[6.3691e-01, 5.1485e-02, 2.2561e-01,  ..., 1.5806e-01,\n",
            "          1.4280e-01, 1.4969e-01],\n",
            "         [3.3990e-01, 5.6509e-01, 8.9796e-01,  ..., 1.1236e-01,\n",
            "          1.0112e-01, 6.2680e-01],\n",
            "         [6.2173e-01, 9.8487e-01, 8.9195e-01,  ..., 9.6631e-02,\n",
            "          1.3702e-01, 2.6186e-01],\n",
            "         ...,\n",
            "         [5.3431e-01, 3.8483e-01, 4.3582e-01,  ..., 5.6349e-01,\n",
            "          9.2600e-01, 2.8321e-01],\n",
            "         [7.9487e-01, 9.5448e-01, 8.1955e-01,  ..., 3.3676e-01,\n",
            "          7.0376e-01, 7.2747e-01],\n",
            "         [3.0981e-01, 9.3125e-01, 5.8946e-01,  ..., 4.9643e-01,\n",
            "          5.4146e-01, 1.9778e-01]]])\n",
            "\n",
            "\n",
            "tensor([[[6.8049e-01, 2.1205e-01, 4.4114e-02,  ..., 6.1609e-01,\n",
            "          1.1018e-01, 8.4362e-02],\n",
            "         [9.6805e-01, 8.0092e-01, 1.7762e-02,  ..., 6.3174e-01,\n",
            "          4.7403e-01, 5.5366e-01],\n",
            "         [6.2282e-01, 2.1535e-01, 9.4530e-02,  ..., 8.4302e-01,\n",
            "          3.7341e-01, 5.7549e-01],\n",
            "         ...,\n",
            "         [1.5677e-02, 2.6303e-01, 1.8630e-01,  ..., 7.3676e-01,\n",
            "          5.4197e-01, 6.1329e-01],\n",
            "         [9.5318e-01, 8.1041e-01, 7.2139e-01,  ..., 3.6525e-02,\n",
            "          9.0231e-01, 6.2134e-01],\n",
            "         [6.9510e-01, 4.2713e-01, 3.6168e-04,  ..., 6.0239e-01,\n",
            "          3.0431e-02, 7.7983e-01]],\n",
            "\n",
            "        [[2.2930e-01, 4.4827e-02, 7.2591e-01,  ..., 6.6379e-01,\n",
            "          8.1164e-01, 8.4900e-01],\n",
            "         [3.0004e-01, 6.1696e-01, 9.4793e-01,  ..., 7.0029e-01,\n",
            "          5.6975e-01, 4.5083e-01],\n",
            "         [1.7246e-01, 2.2918e-01, 7.5468e-01,  ..., 8.2511e-01,\n",
            "          5.0089e-01, 9.8321e-02],\n",
            "         ...,\n",
            "         [8.7326e-01, 7.4360e-01, 5.1877e-01,  ..., 5.4349e-01,\n",
            "          2.4686e-01, 8.3623e-01],\n",
            "         [1.3563e-01, 6.8934e-01, 1.8082e-01,  ..., 7.7884e-02,\n",
            "          5.3415e-01, 5.4174e-01],\n",
            "         [4.8856e-01, 4.8250e-01, 9.4551e-01,  ..., 9.7929e-01,\n",
            "          9.0446e-01, 3.5975e-01]],\n",
            "\n",
            "        [[4.5337e-01, 9.4473e-01, 9.7425e-01,  ..., 9.4777e-01,\n",
            "          8.9743e-01, 8.6976e-01],\n",
            "         [9.3967e-01, 7.6261e-01, 2.0762e-01,  ..., 7.1459e-01,\n",
            "          4.5095e-01, 8.3747e-01],\n",
            "         [3.6392e-01, 6.1554e-01, 2.1313e-01,  ..., 3.5549e-03,\n",
            "          3.4750e-01, 7.6450e-01],\n",
            "         ...,\n",
            "         [5.5197e-01, 7.4849e-01, 7.5371e-01,  ..., 5.3467e-01,\n",
            "          5.9027e-01, 1.6058e-02],\n",
            "         [2.1570e-01, 6.2237e-01, 7.4296e-01,  ..., 4.5108e-01,\n",
            "          8.8944e-01, 9.9538e-01],\n",
            "         [7.7257e-01, 3.3646e-01, 3.4535e-01,  ..., 2.1908e-01,\n",
            "          3.5502e-01, 3.4934e-01]],\n",
            "\n",
            "        ...,\n",
            "\n",
            "        [[3.9112e-01, 9.6051e-01, 5.4641e-01,  ..., 1.1264e-01,\n",
            "          7.8592e-01, 3.2914e-01],\n",
            "         [3.0047e-02, 9.3120e-01, 3.0555e-01,  ..., 8.9051e-01,\n",
            "          2.4057e-02, 2.2338e-01],\n",
            "         [2.9250e-01, 6.8334e-01, 1.5407e-01,  ..., 7.6765e-01,\n",
            "          4.2638e-01, 2.9315e-01],\n",
            "         ...,\n",
            "         [7.8287e-01, 5.5384e-01, 6.9881e-01,  ..., 1.9995e-01,\n",
            "          3.2457e-01, 8.0185e-01],\n",
            "         [7.7109e-01, 7.5610e-01, 1.0630e-01,  ..., 7.1394e-02,\n",
            "          4.5560e-01, 3.0426e-01],\n",
            "         [1.8490e-01, 3.2157e-01, 7.2843e-01,  ..., 7.9898e-01,\n",
            "          9.7889e-02, 6.5929e-01]],\n",
            "\n",
            "        [[5.9141e-01, 7.2863e-01, 4.5896e-01,  ..., 6.9302e-01,\n",
            "          6.3944e-01, 7.2323e-01],\n",
            "         [8.2033e-01, 5.2656e-01, 2.6188e-01,  ..., 7.3986e-01,\n",
            "          7.8628e-01, 6.2863e-01],\n",
            "         [7.6171e-01, 5.0205e-01, 3.7249e-01,  ..., 1.0559e-01,\n",
            "          3.8099e-01, 2.8975e-01],\n",
            "         ...,\n",
            "         [3.4739e-01, 6.8687e-01, 5.8555e-01,  ..., 9.1448e-01,\n",
            "          6.5825e-01, 1.7016e-01],\n",
            "         [5.0472e-02, 4.5285e-01, 1.4737e-01,  ..., 9.3035e-01,\n",
            "          1.7442e-01, 7.0627e-02],\n",
            "         [3.7032e-01, 9.6384e-01, 7.9864e-01,  ..., 9.9909e-01,\n",
            "          6.5071e-01, 7.8098e-01]],\n",
            "\n",
            "        [[3.0488e-01, 4.4031e-01, 2.3749e-01,  ..., 4.8938e-01,\n",
            "          4.1619e-01, 1.1277e-01],\n",
            "         [1.8367e-01, 8.6236e-01, 3.2896e-01,  ..., 1.4556e-01,\n",
            "          2.2648e-01, 6.1503e-01],\n",
            "         [6.8680e-01, 2.4023e-01, 8.8495e-01,  ..., 3.4032e-01,\n",
            "          4.1149e-02, 9.6171e-01],\n",
            "         ...,\n",
            "         [8.3973e-01, 9.4548e-03, 6.6277e-01,  ..., 3.4071e-01,\n",
            "          1.3940e-01, 8.5178e-01],\n",
            "         [3.1588e-01, 1.3890e-01, 8.0465e-01,  ..., 3.8938e-01,\n",
            "          3.8040e-01, 6.7055e-01],\n",
            "         [8.6216e-01, 1.0176e-01, 6.1884e-01,  ..., 4.2147e-01,\n",
            "          2.7570e-01, 2.6332e-01]]])\n",
            "\n",
            "\n",
            "torch.Size([32, 10, 30])\n"
          ]
        }
      ]
    },
    {
      "cell_type": "code",
      "execution_count": null,
      "metadata": {
        "id": "nqjtNM4q3tjm"
      },
      "outputs": [],
      "source": [
        "A = torch.tensor([[1, 2], [3, 4], [2, 4]])  # Shape (3,2)\n",
        "B = torch.tensor([[5, 6], [7, 8], [1, 3]])  # Shape (3,2)"
      ]
    },
    {
      "cell_type": "code",
      "execution_count": null,
      "metadata": {
        "colab": {
          "base_uri": "https://localhost:8080/"
        },
        "id": "5rr8_x973tjm",
        "outputId": "e83fccd3-3a62-420c-f21c-b44dc5c3f6ba"
      },
      "outputs": [
        {
          "output_type": "execute_result",
          "data": {
            "text/plain": [
              "tensor([[1, 2],\n",
              "        [3, 4],\n",
              "        [2, 4]])"
            ]
          },
          "metadata": {},
          "execution_count": 61
        }
      ],
      "source": [
        "A"
      ]
    },
    {
      "cell_type": "code",
      "execution_count": null,
      "metadata": {
        "colab": {
          "base_uri": "https://localhost:8080/"
        },
        "id": "J_SxAdGn3tjm",
        "outputId": "507d18bd-c0f3-47e9-9e01-7a50fa16a184"
      },
      "outputs": [
        {
          "output_type": "execute_result",
          "data": {
            "text/plain": [
              "tensor([[5, 6],\n",
              "        [7, 8],\n",
              "        [1, 3]])"
            ]
          },
          "metadata": {},
          "execution_count": 62
        }
      ],
      "source": [
        "B"
      ]
    },
    {
      "cell_type": "code",
      "execution_count": null,
      "metadata": {
        "colab": {
          "base_uri": "https://localhost:8080/"
        },
        "id": "WFY-Kqtp3tjn",
        "outputId": "3dc9fd5d-ffc1-4c18-c4cb-9fb86f01fe58"
      },
      "outputs": [
        {
          "output_type": "execute_result",
          "data": {
            "text/plain": [
              "torch.Size([3, 2])"
            ]
          },
          "metadata": {},
          "execution_count": 63
        }
      ],
      "source": [
        "A.shape"
      ]
    },
    {
      "cell_type": "code",
      "execution_count": null,
      "metadata": {
        "colab": {
          "base_uri": "https://localhost:8080/"
        },
        "id": "KD8Bm8xi3tjn",
        "outputId": "9464b954-9614-43f3-80b4-aa5fcbbfb14c"
      },
      "outputs": [
        {
          "output_type": "execute_result",
          "data": {
            "text/plain": [
              "tensor([[[1, 2],\n",
              "         [3, 4],\n",
              "         [2, 4]]])"
            ]
          },
          "metadata": {},
          "execution_count": 64
        }
      ],
      "source": [
        "A.unsqueeze(dim=0)"
      ]
    },
    {
      "cell_type": "code",
      "execution_count": null,
      "metadata": {
        "colab": {
          "base_uri": "https://localhost:8080/"
        },
        "id": "XBv1y41_3tjn",
        "outputId": "a8a9fa4a-fd19-407c-a146-e3d42b2d4ccb"
      },
      "outputs": [
        {
          "output_type": "execute_result",
          "data": {
            "text/plain": [
              "torch.Size([1, 3, 2])"
            ]
          },
          "metadata": {},
          "execution_count": 65
        }
      ],
      "source": [
        "A.unsqueeze(dim=0).shape"
      ]
    },
    {
      "cell_type": "code",
      "execution_count": null,
      "metadata": {
        "colab": {
          "base_uri": "https://localhost:8080/"
        },
        "id": "gR8BweoD3tjn",
        "outputId": "5a156540-36d8-46b9-a6fa-1d36158dfdd4"
      },
      "outputs": [
        {
          "output_type": "execute_result",
          "data": {
            "text/plain": [
              "tensor([[[1, 2],\n",
              "         [3, 4],\n",
              "         [2, 4]],\n",
              "\n",
              "        [[1, 2],\n",
              "         [3, 4],\n",
              "         [2, 4]],\n",
              "\n",
              "        [[1, 2],\n",
              "         [3, 4],\n",
              "         [2, 4]],\n",
              "\n",
              "        [[1, 2],\n",
              "         [3, 4],\n",
              "         [2, 4]]])"
            ]
          },
          "metadata": {},
          "execution_count": 66
        }
      ],
      "source": [
        "A = A.unsqueeze(dim=0).expand(4, -1, -1)\n",
        "A"
      ]
    },
    {
      "cell_type": "code",
      "execution_count": null,
      "metadata": {
        "id": "qVwhYsEY3tjn"
      },
      "outputs": [],
      "source": [
        "B = B.unsqueeze(dim=0).expand(4, -1, -1)"
      ]
    },
    {
      "cell_type": "code",
      "source": [
        "A.shape"
      ],
      "metadata": {
        "colab": {
          "base_uri": "https://localhost:8080/"
        },
        "id": "qio-kDWRH3wN",
        "outputId": "878bcfae-af8b-46d7-8117-018b8dc4bdc0"
      },
      "execution_count": null,
      "outputs": [
        {
          "output_type": "execute_result",
          "data": {
            "text/plain": [
              "torch.Size([4, 3, 2])"
            ]
          },
          "metadata": {},
          "execution_count": 68
        }
      ]
    },
    {
      "cell_type": "code",
      "execution_count": null,
      "metadata": {
        "colab": {
          "base_uri": "https://localhost:8080/"
        },
        "id": "UsmyuxRY3tjn",
        "outputId": "f13a7a1c-5aed-4d21-9f53-569fb003abb2"
      },
      "outputs": [
        {
          "output_type": "execute_result",
          "data": {
            "text/plain": [
              "torch.Size([4, 3, 2])"
            ]
          },
          "metadata": {},
          "execution_count": 69
        }
      ],
      "source": [
        "B.shape"
      ]
    },
    {
      "cell_type": "code",
      "execution_count": null,
      "metadata": {
        "id": "bgUxh94O3tjo"
      },
      "outputs": [],
      "source": [
        "B = B.view(-1, B.shape[2], B.shape[1])"
      ]
    },
    {
      "cell_type": "code",
      "execution_count": null,
      "metadata": {
        "colab": {
          "base_uri": "https://localhost:8080/"
        },
        "id": "bouLFXBd3tjo",
        "outputId": "57017fae-e9d0-4f46-f20b-cbc779cf2f84"
      },
      "outputs": [
        {
          "output_type": "execute_result",
          "data": {
            "text/plain": [
              "tensor([[[5, 6, 7],\n",
              "         [8, 1, 3]],\n",
              "\n",
              "        [[5, 6, 7],\n",
              "         [8, 1, 3]],\n",
              "\n",
              "        [[5, 6, 7],\n",
              "         [8, 1, 3]],\n",
              "\n",
              "        [[5, 6, 7],\n",
              "         [8, 1, 3]]])"
            ]
          },
          "metadata": {},
          "execution_count": 71
        }
      ],
      "source": [
        "B"
      ]
    },
    {
      "cell_type": "code",
      "execution_count": null,
      "metadata": {
        "colab": {
          "base_uri": "https://localhost:8080/"
        },
        "id": "F4VIzXgx3tjo",
        "outputId": "9e4f029f-118e-498c-cc8a-386ad238ad03"
      },
      "outputs": [
        {
          "output_type": "execute_result",
          "data": {
            "text/plain": [
              "torch.Size([4, 2, 3])"
            ]
          },
          "metadata": {},
          "execution_count": 73
        }
      ],
      "source": [
        "B.shape"
      ]
    },
    {
      "cell_type": "code",
      "execution_count": null,
      "metadata": {
        "colab": {
          "base_uri": "https://localhost:8080/"
        },
        "id": "dJvWNlwS3tjo",
        "outputId": "d6836862-1aa6-485d-e9b3-3ff23d9090ce"
      },
      "outputs": [
        {
          "output_type": "execute_result",
          "data": {
            "text/plain": [
              "tensor([[[21,  8, 13],\n",
              "         [47, 22, 33],\n",
              "         [42, 16, 26]],\n",
              "\n",
              "        [[21,  8, 13],\n",
              "         [47, 22, 33],\n",
              "         [42, 16, 26]],\n",
              "\n",
              "        [[21,  8, 13],\n",
              "         [47, 22, 33],\n",
              "         [42, 16, 26]],\n",
              "\n",
              "        [[21,  8, 13],\n",
              "         [47, 22, 33],\n",
              "         [42, 16, 26]]])"
            ]
          },
          "metadata": {},
          "execution_count": 74
        }
      ],
      "source": [
        "torch.bmm(A, B)"
      ]
    },
    {
      "cell_type": "code",
      "execution_count": null,
      "metadata": {
        "id": "XuHAyQNN3tjo"
      },
      "outputs": [],
      "source": [
        "x1 = torch.rand((5, 5))\n",
        "x2 = torch.ones((1, 5))"
      ]
    },
    {
      "cell_type": "code",
      "execution_count": null,
      "metadata": {
        "colab": {
          "base_uri": "https://localhost:8080/"
        },
        "id": "HN4QSf9B3tjp",
        "outputId": "9799a4c8-79a3-4855-d28f-47ba6343d922"
      },
      "outputs": [
        {
          "output_type": "execute_result",
          "data": {
            "text/plain": [
              "tensor([[0.7117, 0.0982, 0.1697, 0.1924, 0.7254],\n",
              "        [0.7473, 0.9070, 0.3322, 0.9690, 0.9463],\n",
              "        [0.4787, 0.2123, 0.6844, 0.6257, 0.4487],\n",
              "        [0.9804, 0.2968, 0.5525, 0.5264, 0.0579],\n",
              "        [0.6704, 0.5878, 0.7634, 0.4269, 0.9770]])"
            ]
          },
          "metadata": {},
          "execution_count": 98
        }
      ],
      "source": [
        "x1"
      ]
    },
    {
      "cell_type": "code",
      "execution_count": null,
      "metadata": {
        "id": "N3_J9StQ3tjp"
      },
      "outputs": [],
      "source": [
        "x2 = torch.tensor([4])"
      ]
    },
    {
      "cell_type": "code",
      "source": [
        "x1*x2"
      ],
      "metadata": {
        "colab": {
          "base_uri": "https://localhost:8080/"
        },
        "id": "ugllOpz9O3vn",
        "outputId": "f866bf54-e878-431a-fcbd-03ebb88171b5"
      },
      "execution_count": null,
      "outputs": [
        {
          "output_type": "execute_result",
          "data": {
            "text/plain": [
              "tensor([[2.8467, 0.3930, 0.6789, 0.7696, 2.9016],\n",
              "        [2.9894, 3.6278, 1.3286, 3.8761, 3.7851],\n",
              "        [1.9147, 0.8491, 2.7374, 2.5028, 1.7947],\n",
              "        [3.9215, 1.1872, 2.2100, 2.1056, 0.2317],\n",
              "        [2.6814, 2.3513, 3.0537, 1.7076, 3.9080]])"
            ]
          },
          "metadata": {},
          "execution_count": 103
        }
      ]
    },
    {
      "cell_type": "code",
      "execution_count": null,
      "metadata": {
        "colab": {
          "base_uri": "https://localhost:8080/"
        },
        "id": "HWqRaNC23tjp",
        "outputId": "dc35381b-a247-4a29-e5f4-831e04886002"
      },
      "outputs": [
        {
          "output_type": "execute_result",
          "data": {
            "text/plain": [
              "tensor([[0.7745, 1.0000, 0.0997, 0.9664, 0.3540],\n",
              "        [0.0680, 0.0609, 0.9555, 0.5576, 0.2219],\n",
              "        [0.7848, 0.4066, 0.0532, 0.3178, 0.6392],\n",
              "        [0.8466, 0.9554, 0.3275, 0.5734, 0.0503],\n",
              "        [0.8498, 0.3397, 0.3341, 0.7390, 0.0931]])"
            ]
          },
          "metadata": {},
          "execution_count": 81
        }
      ],
      "source": [
        "x2-x1"
      ]
    },
    {
      "cell_type": "code",
      "execution_count": null,
      "metadata": {
        "id": "PGO3925f3tjp",
        "outputId": "7698e2e1-c6f5-4306-a0b8-5f9b4890f987"
      },
      "outputs": [
        {
          "data": {
            "text/plain": [
              "tensor([[0.0069, 0.4363, 0.3781, 0.8571, 0.1580],\n",
              "        [0.7336, 0.8061, 0.2010, 0.9492, 0.1309],\n",
              "        [0.2600, 0.8864, 0.6046, 0.0462, 0.9662],\n",
              "        [0.3700, 0.9759, 0.9402, 0.7867, 0.4431],\n",
              "        [0.0690, 0.8093, 0.9005, 0.8662, 0.8800]])"
            ]
          },
          "execution_count": 152,
          "metadata": {},
          "output_type": "execute_result"
        }
      ],
      "source": [
        "x2 * x1"
      ]
    },
    {
      "cell_type": "code",
      "execution_count": null,
      "metadata": {
        "id": "G6htsvqh3tjp",
        "outputId": "8cd9a943-e3d2-4b98-b325-dc523e684eef"
      },
      "outputs": [
        {
          "data": {
            "text/plain": [
              "1849"
            ]
          },
          "execution_count": 149,
          "metadata": {},
          "output_type": "execute_result"
        }
      ],
      "source": [
        "43**2"
      ]
    },
    {
      "cell_type": "code",
      "source": [
        "A"
      ],
      "metadata": {
        "colab": {
          "base_uri": "https://localhost:8080/"
        },
        "id": "pVb39VpbKOLE",
        "outputId": "f1d45a78-1585-43bb-dbb0-a09c8765be32"
      },
      "execution_count": null,
      "outputs": [
        {
          "output_type": "execute_result",
          "data": {
            "text/plain": [
              "tensor([[1, 2],\n",
              "        [3, 4],\n",
              "        [2, 4]])"
            ]
          },
          "metadata": {},
          "execution_count": 83
        }
      ]
    },
    {
      "cell_type": "code",
      "execution_count": null,
      "metadata": {
        "colab": {
          "base_uri": "https://localhost:8080/"
        },
        "id": "2mOsd7wL3tjp",
        "outputId": "a5b20067-297d-4aef-8145-df1bf4d42da8"
      },
      "outputs": [
        {
          "output_type": "execute_result",
          "data": {
            "text/plain": [
              "tensor([ 6, 10])"
            ]
          },
          "metadata": {},
          "execution_count": 85
        }
      ],
      "source": [
        "sum_A = torch.sum(\n",
        "    A, dim=0\n",
        ")\n",
        "sum_A"
      ]
    },
    {
      "cell_type": "code",
      "execution_count": null,
      "metadata": {
        "id": "2GqaPMAs3tjp"
      },
      "outputs": [],
      "source": [
        "P = torch.tensor([[5, 6, 7],\n",
        "         [8, 1, 3]])"
      ]
    },
    {
      "cell_type": "code",
      "execution_count": null,
      "metadata": {
        "colab": {
          "base_uri": "https://localhost:8080/"
        },
        "id": "r3vb_WrD3tjp",
        "outputId": "6a004485-ecdb-42c7-c210-457811a7c2d1"
      },
      "outputs": [
        {
          "output_type": "execute_result",
          "data": {
            "text/plain": [
              "tensor([[5, 6, 7],\n",
              "        [8, 1, 3]])"
            ]
          },
          "metadata": {},
          "execution_count": 87
        }
      ],
      "source": [
        "P"
      ]
    },
    {
      "cell_type": "code",
      "execution_count": null,
      "metadata": {
        "colab": {
          "base_uri": "https://localhost:8080/"
        },
        "id": "GdBUsdvC3tjq",
        "outputId": "c8a69241-a8c5-4fd5-c61b-347ad1cb8de8"
      },
      "outputs": [
        {
          "output_type": "execute_result",
          "data": {
            "text/plain": [
              "tensor([13,  7, 10])"
            ]
          },
          "metadata": {},
          "execution_count": 88
        }
      ],
      "source": [
        "torch.sum(P, dim=0)"
      ]
    },
    {
      "cell_type": "code",
      "execution_count": null,
      "metadata": {
        "id": "5c2tPmT23tjr",
        "outputId": "4a1b886c-1f44-428f-e5ca-6355baffb92d"
      },
      "outputs": [
        {
          "data": {
            "text/plain": [
              "tensor([18, 12])"
            ]
          },
          "execution_count": 160,
          "metadata": {},
          "output_type": "execute_result"
        }
      ],
      "source": [
        "torch.sum(P, dim=1)"
      ]
    },
    {
      "cell_type": "code",
      "execution_count": null,
      "metadata": {
        "id": "0v0Khsiy3tjr",
        "outputId": "c10db514-66f6-4346-af73-b2fe3e235173"
      },
      "outputs": [
        {
          "data": {
            "text/plain": [
              "tensor([[5, 6, 7],\n",
              "        [8, 1, 3]])"
            ]
          },
          "execution_count": 163,
          "metadata": {},
          "output_type": "execute_result"
        }
      ],
      "source": [
        "P"
      ]
    },
    {
      "cell_type": "code",
      "execution_count": null,
      "metadata": {
        "colab": {
          "base_uri": "https://localhost:8080/"
        },
        "id": "ZYm69RJU3tjr",
        "outputId": "325048e9-6b59-4bfa-fa43-7ce3fc78bffc"
      },
      "outputs": [
        {
          "output_type": "execute_result",
          "data": {
            "text/plain": [
              "(tensor([8, 6, 7]), tensor([1, 0, 0]))"
            ]
          },
          "metadata": {},
          "execution_count": 89
        }
      ],
      "source": [
        "values, indices = torch.max(P, dim=0)\n",
        "values, indices"
      ]
    },
    {
      "cell_type": "code",
      "execution_count": null,
      "metadata": {
        "colab": {
          "base_uri": "https://localhost:8080/"
        },
        "id": "3l1jmJyZ3tjr",
        "outputId": "e9406052-5d6d-4898-a9dd-52b5ad3e0213"
      },
      "outputs": [
        {
          "output_type": "execute_result",
          "data": {
            "text/plain": [
              "(tensor([7, 8]), tensor([2, 0]))"
            ]
          },
          "metadata": {},
          "execution_count": 90
        }
      ],
      "source": [
        "values, indices = torch.max(P, dim=1)\n",
        "values, indices"
      ]
    },
    {
      "cell_type": "code",
      "execution_count": null,
      "metadata": {
        "id": "wbTrvqjf3tjr",
        "outputId": "e9d33247-e22d-4dab-922e-ed1565698229"
      },
      "outputs": [
        {
          "data": {
            "text/plain": [
              "tensor([[5, 6, 7],\n",
              "        [8, 1, 3]])"
            ]
          },
          "execution_count": 165,
          "metadata": {},
          "output_type": "execute_result"
        }
      ],
      "source": [
        "abs_x = torch.abs(P)\n",
        "abs_x"
      ]
    },
    {
      "cell_type": "code",
      "source": [
        "P"
      ],
      "metadata": {
        "colab": {
          "base_uri": "https://localhost:8080/"
        },
        "id": "7gOHiDe2LNgs",
        "outputId": "c7c938b8-cbf4-4112-e3c9-e7481bb95682"
      },
      "execution_count": null,
      "outputs": [
        {
          "output_type": "execute_result",
          "data": {
            "text/plain": [
              "tensor([[5, 6, 7],\n",
              "        [8, 1, 3]])"
            ]
          },
          "metadata": {},
          "execution_count": 94
        }
      ]
    },
    {
      "cell_type": "code",
      "source": [],
      "metadata": {
        "id": "pivil7eYNMID"
      },
      "execution_count": null,
      "outputs": []
    },
    {
      "cell_type": "code",
      "execution_count": null,
      "metadata": {
        "colab": {
          "base_uri": "https://localhost:8080/"
        },
        "id": "p6kroIXE3tjr",
        "outputId": "c47bac58-3bee-4d01-b714-5cc7cf9e2bbe"
      },
      "outputs": [
        {
          "output_type": "execute_result",
          "data": {
            "text/plain": [
              "tensor([1, 0, 0])"
            ]
          },
          "metadata": {},
          "execution_count": 95
        }
      ],
      "source": [
        "torch.argmax(P, dim=0)"
      ]
    },
    {
      "cell_type": "code",
      "execution_count": null,
      "metadata": {
        "colab": {
          "base_uri": "https://localhost:8080/"
        },
        "id": "sM4qumrM3tjr",
        "outputId": "de74353d-298c-466a-853b-189532a43031"
      },
      "outputs": [
        {
          "output_type": "execute_result",
          "data": {
            "text/plain": [
              "tensor([2, 0])"
            ]
          },
          "metadata": {},
          "execution_count": 96
        }
      ],
      "source": [
        "torch.argmax(P, dim=1)"
      ]
    },
    {
      "cell_type": "code",
      "execution_count": null,
      "metadata": {
        "id": "RJI1WUT_3tjr",
        "outputId": "3dfdfbcc-abc9-4da5-80d5-e52312f51040"
      },
      "outputs": [
        {
          "data": {
            "text/plain": [
              "tensor([False, False, False])"
            ]
          },
          "execution_count": 170,
          "metadata": {},
          "output_type": "execute_result"
        }
      ],
      "source": [
        "z = torch.eq(x, y)  # Element wise comparison, in this case z = [False, False, False]\n",
        "z\n"
      ]
    },
    {
      "cell_type": "code",
      "execution_count": null,
      "metadata": {
        "id": "Son5mcNW3tjr",
        "outputId": "28461ed1-ef5d-4f25-c65d-61f67853f53a"
      },
      "outputs": [
        {
          "data": {
            "text/plain": [
              "tensor([[False, False],\n",
              "        [False, False],\n",
              "        [False, False]])"
            ]
          },
          "execution_count": 173,
          "metadata": {},
          "output_type": "execute_result"
        }
      ],
      "source": [
        "z = torch.eq(A, B)  # Element wise comparison, in this case z = [False, False, False]\n",
        "z\n"
      ]
    },
    {
      "cell_type": "code",
      "execution_count": null,
      "metadata": {
        "id": "1otlg9j-3tjs",
        "outputId": "dbf362a3-039d-40f4-f04c-a4607fe4ee52"
      },
      "outputs": [
        {
          "name": "stdout",
          "output_type": "stream",
          "text": [
            "tensor([1, 2, 3])\n"
          ]
        },
        {
          "data": {
            "text/plain": [
              "tensor([2, 2, 3])"
            ]
          },
          "execution_count": 176,
          "metadata": {},
          "output_type": "execute_result"
        }
      ],
      "source": [
        "print(x)\n",
        "z = torch.clamp(x, min=2)\n",
        "z"
      ]
    },
    {
      "cell_type": "code",
      "execution_count": null,
      "metadata": {
        "id": "TRTmcv8R3tjs",
        "outputId": "0717e4fe-8465-489d-e230-0246dace3467"
      },
      "outputs": [
        {
          "data": {
            "text/plain": [
              "tensor([ True, False,  True,  True,  True])"
            ]
          },
          "execution_count": 180,
          "metadata": {},
          "output_type": "execute_result"
        }
      ],
      "source": [
        "x = torch.tensor([1, 0, 6, 5, -1], dtype=torch.bool)\n",
        "x"
      ]
    },
    {
      "cell_type": "code",
      "execution_count": null,
      "metadata": {
        "id": "3OuN6xwv3tjs",
        "outputId": "49200bb7-4956-48e3-9c1e-c4b7795526bd"
      },
      "outputs": [
        {
          "data": {
            "text/plain": [
              "tensor(True)"
            ]
          },
          "execution_count": 181,
          "metadata": {},
          "output_type": "execute_result"
        }
      ],
      "source": [
        "z = torch.any(x)\n",
        "z"
      ]
    },
    {
      "cell_type": "code",
      "execution_count": null,
      "metadata": {
        "id": "IjlVuBzA3tjs",
        "outputId": "43bea159-cd86-4964-cbac-91916c4cc30a"
      },
      "outputs": [
        {
          "data": {
            "text/plain": [
              "tensor(False)"
            ]
          },
          "execution_count": 184,
          "metadata": {},
          "output_type": "execute_result"
        }
      ],
      "source": [
        "z = torch.all(x)\n",
        "z"
      ]
    },
    {
      "cell_type": "markdown",
      "metadata": {
        "id": "JSbpWcwT3tjs"
      },
      "source": [
        " ### Tensor Indexing"
      ]
    },
    {
      "cell_type": "code",
      "execution_count": null,
      "metadata": {
        "id": "UOhiufHx3tjs"
      },
      "outputs": [],
      "source": [
        "batch_size = 10\n",
        "features = 25"
      ]
    },
    {
      "cell_type": "code",
      "execution_count": null,
      "metadata": {
        "id": "uNg0K2Ux3tjs",
        "outputId": "34466b5d-2e20-4940-990e-9a9aa6f187ab"
      },
      "outputs": [
        {
          "name": "stdout",
          "output_type": "stream",
          "text": [
            "torch.Size([10, 25])\n",
            "\n",
            "\n",
            "tensor([[0.8890, 0.3289, 0.5066, 0.6957, 0.9740, 0.0547, 0.7570, 0.8483, 0.3536,\n",
            "         0.0748, 0.8455, 0.0872, 0.9404, 0.0853, 0.2617, 0.8077, 0.4719, 0.1769,\n",
            "         0.8815, 0.8931, 0.2712, 0.7666, 0.5662, 0.0093, 0.4283],\n",
            "        [0.6324, 0.3976, 0.7950, 0.6447, 0.1386, 0.3943, 0.8312, 0.7493, 0.4578,\n",
            "         0.0568, 0.7437, 0.5563, 0.0729, 0.7224, 0.7849, 0.9468, 0.8964, 0.3368,\n",
            "         0.6046, 0.2137, 0.2928, 0.7093, 0.8768, 0.5370, 0.0264],\n",
            "        [0.7876, 0.4973, 0.5777, 0.4075, 0.8760, 0.0404, 0.9571, 0.5904, 0.6459,\n",
            "         0.7446, 0.8985, 0.1651, 0.2629, 0.1886, 0.9340, 0.5604, 0.7390, 0.4169,\n",
            "         0.2631, 0.3357, 0.0125, 0.1249, 0.4188, 0.2381, 0.4714],\n",
            "        [0.3988, 0.9701, 0.1867, 0.2142, 0.8626, 0.3822, 0.7283, 0.5628, 0.4387,\n",
            "         0.9483, 0.3152, 0.5915, 0.7669, 0.4138, 0.4944, 0.6787, 0.7195, 0.0489,\n",
            "         0.7733, 0.2602, 0.0049, 0.0720, 0.1918, 0.0211, 0.3349],\n",
            "        [0.7897, 0.8322, 0.6004, 0.2181, 0.6341, 0.8924, 0.4148, 0.4951, 0.7450,\n",
            "         0.9670, 0.3251, 0.4401, 0.1913, 0.1613, 0.0845, 0.9304, 0.2779, 0.2765,\n",
            "         0.7868, 0.6752, 0.2871, 0.0344, 0.2969, 0.6660, 0.0871],\n",
            "        [0.2292, 0.6722, 0.0212, 0.8220, 0.1518, 0.9416, 0.9520, 0.0939, 0.6932,\n",
            "         0.7360, 0.0172, 0.9769, 0.8019, 0.3834, 0.7794, 0.5894, 0.8131, 0.1661,\n",
            "         0.5085, 0.5524, 0.8404, 0.7038, 0.1507, 0.2194, 0.7190],\n",
            "        [0.2663, 0.1149, 0.8363, 0.7717, 0.3450, 0.6977, 0.9276, 0.9699, 0.0164,\n",
            "         0.3349, 0.9579, 0.0946, 0.6709, 0.3699, 0.3521, 0.4714, 0.1213, 0.7392,\n",
            "         0.3397, 0.1103, 0.6017, 0.9020, 0.4791, 0.9442, 0.3648],\n",
            "        [0.4911, 0.5782, 0.3395, 0.8588, 0.1673, 0.8544, 0.1417, 0.0048, 0.7527,\n",
            "         0.0737, 0.8181, 0.2567, 0.9565, 0.1376, 0.7535, 0.2082, 0.5439, 0.8571,\n",
            "         0.7314, 0.0713, 0.0173, 0.8445, 0.7284, 0.0949, 0.4764],\n",
            "        [0.1379, 0.1361, 0.8786, 0.7139, 0.7384, 0.3873, 0.3962, 0.9380, 0.4422,\n",
            "         0.5640, 0.0382, 0.8305, 0.1723, 0.4078, 0.4568, 0.9452, 0.8722, 0.3803,\n",
            "         0.4390, 0.4431, 0.9810, 0.8529, 0.2351, 0.5466, 0.3060],\n",
            "        [0.1910, 0.1511, 0.6028, 0.9323, 0.3274, 0.5620, 0.2204, 0.0293, 0.7669,\n",
            "         0.0059, 0.7597, 0.1897, 0.0289, 0.5032, 0.0839, 0.3510, 0.5238, 0.5716,\n",
            "         0.9247, 0.5612, 0.7824, 0.1357, 0.6737, 0.9091, 0.6809]])\n"
          ]
        }
      ],
      "source": [
        "x = torch.rand((batch_size, features))\n",
        "print(x.shape)\n",
        "print(\"\\n\")\n",
        "print(x)"
      ]
    },
    {
      "cell_type": "code",
      "execution_count": null,
      "metadata": {
        "id": "uMc_ISXd3tjt",
        "outputId": "15a9e16f-f5c4-4b55-b292-14687d8a9732"
      },
      "outputs": [
        {
          "data": {
            "text/plain": [
              "torch.Size([25])"
            ]
          },
          "execution_count": 189,
          "metadata": {},
          "output_type": "execute_result"
        }
      ],
      "source": [
        "x[0].shape"
      ]
    },
    {
      "cell_type": "code",
      "execution_count": null,
      "metadata": {
        "id": "GRmLxC003tjt",
        "outputId": "e78dbb0f-b1c2-45d3-ada9-dcb0ddc924bb"
      },
      "outputs": [
        {
          "data": {
            "text/plain": [
              "tensor([0.8890, 0.6324, 0.7876, 0.3988, 0.7897, 0.2292, 0.2663, 0.4911, 0.1379,\n",
              "        0.1910])"
            ]
          },
          "execution_count": 190,
          "metadata": {},
          "output_type": "execute_result"
        }
      ],
      "source": [
        "x[:, 0]"
      ]
    },
    {
      "cell_type": "code",
      "execution_count": null,
      "metadata": {
        "id": "5Zk3p04P3tjt",
        "outputId": "d3997d6c-8bd6-426d-9b1c-d134869d5a20"
      },
      "outputs": [
        {
          "data": {
            "text/plain": [
              "tensor([0.7876, 0.4973, 0.5777, 0.4075, 0.8760, 0.0404, 0.9571, 0.5904, 0.6459,\n",
              "        0.7446])"
            ]
          },
          "execution_count": 191,
          "metadata": {},
          "output_type": "execute_result"
        }
      ],
      "source": [
        "x[2, 0:10]"
      ]
    },
    {
      "cell_type": "code",
      "execution_count": null,
      "metadata": {
        "id": "xoYaJh4s3tjt"
      },
      "outputs": [],
      "source": [
        "x[0, 0] = 100"
      ]
    },
    {
      "cell_type": "code",
      "execution_count": null,
      "metadata": {
        "id": "MKFSTiaq3tjt",
        "outputId": "d6eba3ca-57b4-4694-f5ee-51aea81be4db"
      },
      "outputs": [
        {
          "data": {
            "text/plain": [
              "tensor([[1.0000e+02, 3.2888e-01, 5.0660e-01, 6.9571e-01, 9.7395e-01, 5.4713e-02,\n",
              "         7.5698e-01, 8.4829e-01, 3.5364e-01, 7.4767e-02, 8.4551e-01, 8.7250e-02,\n",
              "         9.4043e-01, 8.5324e-02, 2.6166e-01, 8.0767e-01, 4.7186e-01, 1.7692e-01,\n",
              "         8.8149e-01, 8.9308e-01, 2.7124e-01, 7.6658e-01, 5.6623e-01, 9.3103e-03,\n",
              "         4.2835e-01],\n",
              "        [6.3242e-01, 3.9759e-01, 7.9498e-01, 6.4473e-01, 1.3865e-01, 3.9429e-01,\n",
              "         8.3117e-01, 7.4934e-01, 4.5779e-01, 5.6777e-02, 7.4370e-01, 5.5634e-01,\n",
              "         7.2936e-02, 7.2238e-01, 7.8494e-01, 9.4683e-01, 8.9644e-01, 3.3683e-01,\n",
              "         6.0456e-01, 2.1369e-01, 2.9277e-01, 7.0927e-01, 8.7680e-01, 5.3697e-01,\n",
              "         2.6406e-02],\n",
              "        [7.8761e-01, 4.9727e-01, 5.7767e-01, 4.0747e-01, 8.7605e-01, 4.0386e-02,\n",
              "         9.5707e-01, 5.9042e-01, 6.4589e-01, 7.4463e-01, 8.9854e-01, 1.6515e-01,\n",
              "         2.6292e-01, 1.8863e-01, 9.3403e-01, 5.6039e-01, 7.3904e-01, 4.1694e-01,\n",
              "         2.6314e-01, 3.3572e-01, 1.2550e-02, 1.2490e-01, 4.1879e-01, 2.3810e-01,\n",
              "         4.7139e-01],\n",
              "        [3.9883e-01, 9.7007e-01, 1.8675e-01, 2.1420e-01, 8.6257e-01, 3.8221e-01,\n",
              "         7.2833e-01, 5.6276e-01, 4.3867e-01, 9.4828e-01, 3.1525e-01, 5.9148e-01,\n",
              "         7.6694e-01, 4.1379e-01, 4.9444e-01, 6.7873e-01, 7.1947e-01, 4.8892e-02,\n",
              "         7.7326e-01, 2.6022e-01, 4.9331e-03, 7.1976e-02, 1.9184e-01, 2.1126e-02,\n",
              "         3.3485e-01],\n",
              "        [7.8973e-01, 8.3222e-01, 6.0038e-01, 2.1810e-01, 6.3408e-01, 8.9237e-01,\n",
              "         4.1479e-01, 4.9509e-01, 7.4498e-01, 9.6703e-01, 3.2507e-01, 4.4006e-01,\n",
              "         1.9135e-01, 1.6130e-01, 8.4498e-02, 9.3037e-01, 2.7787e-01, 2.7648e-01,\n",
              "         7.8677e-01, 6.7520e-01, 2.8708e-01, 3.4379e-02, 2.9685e-01, 6.6603e-01,\n",
              "         8.7143e-02],\n",
              "        [2.2920e-01, 6.7216e-01, 2.1175e-02, 8.2197e-01, 1.5177e-01, 9.4165e-01,\n",
              "         9.5200e-01, 9.3885e-02, 6.9322e-01, 7.3604e-01, 1.7176e-02, 9.7690e-01,\n",
              "         8.0192e-01, 3.8343e-01, 7.7935e-01, 5.8941e-01, 8.1308e-01, 1.6610e-01,\n",
              "         5.0847e-01, 5.5240e-01, 8.4042e-01, 7.0379e-01, 1.5067e-01, 2.1941e-01,\n",
              "         7.1904e-01],\n",
              "        [2.6633e-01, 1.1489e-01, 8.3632e-01, 7.7170e-01, 3.4502e-01, 6.9771e-01,\n",
              "         9.2762e-01, 9.6986e-01, 1.6375e-02, 3.3488e-01, 9.5792e-01, 9.4646e-02,\n",
              "         6.7093e-01, 3.6987e-01, 3.5211e-01, 4.7139e-01, 1.2129e-01, 7.3915e-01,\n",
              "         3.3971e-01, 1.1027e-01, 6.0166e-01, 9.0204e-01, 4.7911e-01, 9.4416e-01,\n",
              "         3.6476e-01],\n",
              "        [4.9107e-01, 5.7823e-01, 3.3949e-01, 8.5877e-01, 1.6728e-01, 8.5438e-01,\n",
              "         1.4175e-01, 4.7916e-03, 7.5266e-01, 7.3696e-02, 8.1810e-01, 2.5671e-01,\n",
              "         9.5646e-01, 1.3761e-01, 7.5352e-01, 2.0816e-01, 5.4394e-01, 8.5706e-01,\n",
              "         7.3137e-01, 7.1297e-02, 1.7293e-02, 8.4453e-01, 7.2841e-01, 9.4946e-02,\n",
              "         4.7644e-01],\n",
              "        [1.3789e-01, 1.3615e-01, 8.7862e-01, 7.1389e-01, 7.3836e-01, 3.8726e-01,\n",
              "         3.9615e-01, 9.3799e-01, 4.4224e-01, 5.6405e-01, 3.8188e-02, 8.3047e-01,\n",
              "         1.7225e-01, 4.0778e-01, 4.5679e-01, 9.4518e-01, 8.7225e-01, 3.8031e-01,\n",
              "         4.3897e-01, 4.4313e-01, 9.8099e-01, 8.5290e-01, 2.3508e-01, 5.4658e-01,\n",
              "         3.0598e-01],\n",
              "        [1.9105e-01, 1.5114e-01, 6.0276e-01, 9.3234e-01, 3.2739e-01, 5.6196e-01,\n",
              "         2.2036e-01, 2.9275e-02, 7.6695e-01, 5.9339e-03, 7.5966e-01, 1.8968e-01,\n",
              "         2.8944e-02, 5.0321e-01, 8.3869e-02, 3.5097e-01, 5.2375e-01, 5.7161e-01,\n",
              "         9.2471e-01, 5.6119e-01, 7.8241e-01, 1.3574e-01, 6.7370e-01, 9.0907e-01,\n",
              "         6.8091e-01]])"
            ]
          },
          "execution_count": 193,
          "metadata": {},
          "output_type": "execute_result"
        }
      ],
      "source": [
        "x"
      ]
    },
    {
      "cell_type": "markdown",
      "metadata": {
        "id": "dVSLcnM93tjt"
      },
      "source": []
    },
    {
      "cell_type": "code",
      "execution_count": null,
      "metadata": {
        "id": "NYEvyOVL3tjt",
        "outputId": "4a2ae938-e0b9-4cb9-a271-4cea6dad5535"
      },
      "outputs": [
        {
          "name": "stdout",
          "output_type": "stream",
          "text": [
            "tensor([0, 1, 2, 3, 4, 5, 6, 7, 8, 9])\n",
            "tensor([0, 1, 9])\n",
            "tensor([0, 2, 4, 6, 8])\n"
          ]
        }
      ],
      "source": [
        "x = torch.arange(10)\n",
        "print(x)\n",
        "print(x[(x < 2) | (x > 8)])  # will be [0, 1, 9]\n",
        "print(x[x.remainder(2) == 0])"
      ]
    },
    {
      "cell_type": "code",
      "execution_count": null,
      "metadata": {
        "id": "ccL1tCWg3tju",
        "outputId": "6a7fc141-63f8-4cbb-e6ca-72ce959067af"
      },
      "outputs": [
        {
          "name": "stdout",
          "output_type": "stream",
          "text": [
            "10\n"
          ]
        }
      ],
      "source": [
        "x = torch.arange(10)\n",
        "print(\n",
        "    x.numel()\n",
        ")"
      ]
    },
    {
      "cell_type": "code",
      "execution_count": null,
      "metadata": {
        "id": "Ml-tGi_83tju",
        "outputId": "ac07a0ad-5ad5-443c-843a-8a3a5635463d"
      },
      "outputs": [
        {
          "data": {
            "text/plain": [
              "6"
            ]
          },
          "execution_count": 207,
          "metadata": {},
          "output_type": "execute_result"
        }
      ],
      "source": [
        "A = torch.tensor([[1, 2], [3, 4], [2, 4]])\n",
        "A.numel()"
      ]
    },
    {
      "cell_type": "code",
      "execution_count": null,
      "metadata": {
        "id": "SFaZsVBi3tju",
        "outputId": "64db722e-8b77-4b99-83fc-1a72896a162a"
      },
      "outputs": [
        {
          "data": {
            "text/plain": [
              "6"
            ]
          },
          "execution_count": 208,
          "metadata": {},
          "output_type": "execute_result"
        }
      ],
      "source": [
        "A.nelement()"
      ]
    },
    {
      "cell_type": "markdown",
      "metadata": {
        "id": "wEhIPMM53tju"
      },
      "source": [
        "### Tensor Reshaping"
      ]
    }
  ],
  "metadata": {
    "kernelspec": {
      "display_name": "Python 3",
      "name": "python3"
    },
    "language_info": {
      "codemirror_mode": {
        "name": "ipython",
        "version": 3
      },
      "file_extension": ".py",
      "mimetype": "text/x-python",
      "name": "python",
      "nbconvert_exporter": "python",
      "pygments_lexer": "ipython3",
      "version": "3.10.16"
    },
    "colab": {
      "provenance": [],
      "gpuType": "T4"
    },
    "accelerator": "GPU"
  },
  "nbformat": 4,
  "nbformat_minor": 0
}